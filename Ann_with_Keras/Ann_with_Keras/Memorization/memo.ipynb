{
 "cells": [
  {
   "cell_type": "code",
   "execution_count": 7,
   "id": "1ca8c958",
   "metadata": {},
   "outputs": [],
   "source": [
    "def fib(n):\n",
    "    if n == 1 or n == 0 :\n",
    "        return 1\n",
    "    else:\n",
    "        return fib(n-1)+fib(n-2)"
   ]
  },
  {
   "cell_type": "code",
   "execution_count": 14,
   "id": "e7e6ee8e",
   "metadata": {},
   "outputs": [
    {
     "name": "stdout",
     "output_type": "stream",
     "text": [
      "10946\n",
      "0.007979393005371094\n"
     ]
    }
   ],
   "source": [
    "import time\n",
    "start  = time.time()\n",
    "print(fib(20))\n",
    "print(time.time() - start)\n",
    "#This approach is not good bcz for large input it takes so so much time \n",
    "#Here we use the concept of memorization to make it efficient\n",
    "\n"
   ]
  },
  {
   "cell_type": "code",
   "execution_count": 26,
   "id": "5d0870bb",
   "metadata": {},
   "outputs": [],
   "source": [
    "def fibo(n,d):\n",
    "    if n in d :\n",
    "        return d[n]\n",
    "    else:\n",
    "        d[n] =  fibo(n-1,d)+fibo(n-2,d)\n",
    "        return d[n]"
   ]
  },
  {
   "cell_type": "code",
   "execution_count": 29,
   "id": "6adcc920",
   "metadata": {},
   "outputs": [
    {
     "name": "stdout",
     "output_type": "stream",
     "text": [
      "20365011074\n",
      "0.0009958744049072266\n"
     ]
    }
   ],
   "source": [
    "import time\n",
    "start  = time.time()\n",
    "d = {0:1 , 1:1}\n",
    "print(fibo(50,d))\n",
    "print(time.time() - start)\n",
    "\n",
    "\n"
   ]
  }
 ],
 "metadata": {
  "kernelspec": {
   "display_name": "Python 3",
   "language": "python",
   "name": "python3"
  },
  "language_info": {
   "codemirror_mode": {
    "name": "ipython",
    "version": 3
   },
   "file_extension": ".py",
   "mimetype": "text/x-python",
   "name": "python",
   "nbconvert_exporter": "python",
   "pygments_lexer": "ipython3",
   "version": "3.11.3"
  }
 },
 "nbformat": 4,
 "nbformat_minor": 5
}
